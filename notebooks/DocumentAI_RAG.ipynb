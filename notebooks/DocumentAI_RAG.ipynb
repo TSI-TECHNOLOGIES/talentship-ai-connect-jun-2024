{
 "cells": [
  {
   "cell_type": "markdown",
   "id": "fefc65aa-22b0-4526-9027-2781faa6c117",
   "metadata": {},
   "source": [
    "# RAG using Document AI"
   ]
  },
  {
   "cell_type": "code",
   "execution_count": 1,
   "id": "8800d753-45e6-4c42-8372-74a30508ccfb",
   "metadata": {},
   "outputs": [],
   "source": [
    "import os\n",
    "import openai\n",
    "import io\n",
    "import uuid\n",
    "import base64\n",
    "import time \n",
    "import json\n",
    "from base64 import b64decode\n",
    "import numpy as np\n",
    "from PIL import Image\n",
    "import re\n",
    "from pydantic import BaseModel\n",
    "\n",
    "\n",
    "class PromptModel(BaseModel):\n",
    "    \"\"\"\n",
    "    Represents a prompt model.\n",
    "\n",
    "    Attributes:\n",
    "        prompt (str): The prompt for the model.\n",
    "        model (str): The model type. Default is \"openai\".\n",
    "    \"\"\"\n",
    "    prompt: str\n",
    "    model: str = \"openai\""
   ]
  },
  {
   "cell_type": "markdown",
   "id": "2c4bcde7-4881-4410-a853-6ebb67f1143f",
   "metadata": {},
   "source": [
    "## 1. Import llamaindex Dependent Libraries"
   ]
  },
  {
   "cell_type": "code",
   "execution_count": 2,
   "id": "26d16cb7-72c9-4c87-8e3c-9279efda0f57",
   "metadata": {},
   "outputs": [],
   "source": [
    "from llama_index.core import (\n",
    "    SimpleDirectoryReader,\n",
    "    VectorStoreIndex,\n",
    "    StorageContext,\n",
    ")\n",
    "from llama_index.vector_stores.postgres import PGVectorStore\n",
    "from llama_index.embeddings.openai import OpenAIEmbedding\n",
    "from llama_index.llms.anthropic import Anthropic\n",
    "from llama_index.core.memory.chat_memory_buffer import ChatMemoryBuffer\n",
    "from llama_index.core.node_parser import JSONNodeParser"
   ]
  },
  {
   "cell_type": "markdown",
   "id": "68adeebe-7655-4a32-a916-07f4fe50cb0f",
   "metadata": {},
   "source": [
    "## 2. Import Google Cloud Dependent Libraries"
   ]
  },
  {
   "cell_type": "code",
   "execution_count": 3,
   "id": "6f53475c-94ff-4166-bfcf-1c4ce856186c",
   "metadata": {},
   "outputs": [],
   "source": [
    "from google.cloud import documentai\n",
    "from google.api_core.client_options import ClientOptions"
   ]
  },
  {
   "cell_type": "code",
   "execution_count": 4,
   "id": "20656f07-84d9-4ba0-a21f-0db270a33d16",
   "metadata": {},
   "outputs": [],
   "source": [
    "from PyPDF2 import PdfReader\n",
    "from google.cloud import storage\n",
    "from google.protobuf.json_format import MessageToJson\n",
    "from google.cloud.documentai_v1 import Document\n"
   ]
  },
  {
   "cell_type": "code",
   "execution_count": 23,
   "id": "7f47e35f-5f84-4f14-ab86-1ac86abab3aa",
   "metadata": {},
   "outputs": [],
   "source": [
    "memory = ChatMemoryBuffer.from_defaults(token_limit=8496)"
   ]
  },
  {
   "cell_type": "markdown",
   "id": "fbddfbca-fa74-4627-9d87-903f378b52f3",
   "metadata": {},
   "source": [
    "## Read Environment Variable"
   ]
  },
  {
   "cell_type": "code",
   "execution_count": 24,
   "id": "06b4d4d9-ff35-4827-b0e8-0ee2cfebb0b3",
   "metadata": {},
   "outputs": [],
   "source": [
    "OPENAI_API_KEY_TURBO = os.environ[\"OPENAI_API_KEY_TURBO\"]\n",
    "ANTHROPIC_API_KEY = os.environ[\"ANTHROPIC_API_KEY\"]\n",
    "\n",
    "DOCUMENTAI_LOCATION = os.environ[\"DOCUMENTAI_LOCATION\"]\n",
    "DOCUMENTAI_PROJECT_ID = os.environ[\"DOCUMENTAI_PROJECT_ID\"]\n",
    "DOCUMENTAI_PROCESSOR_ID = os.environ[\"DOCUMENTAI_PROCESSOR_ID\"]\n",
    "\n",
    "POSTGRES_HOST=os.environ[\"POSTGRES_HOST\"]\n",
    "POSTGRES_PORT=os.environ[\"POSTGRES_PORT\"]\n",
    "POSTGRES_DB = os.environ[\"POSTGRES_DB\"]\n",
    "POSTGRES_USER = os.environ[\"POSTGRES_USER\"]\n",
    "POSTGRES_PASSWORD = os.environ[\"POSTGRES_PASSWORD\"]"
   ]
  },
  {
   "cell_type": "code",
   "execution_count": 25,
   "id": "99357254-4918-46de-8d06-43b71f311b41",
   "metadata": {},
   "outputs": [],
   "source": [
    "embed_model = OpenAIEmbedding(api_key=OPENAI_API_KEY_TURBO)"
   ]
  },
  {
   "cell_type": "code",
   "execution_count": 26,
   "id": "ed3c1b52-f66c-4ad6-8987-2e0ac52eda81",
   "metadata": {},
   "outputs": [],
   "source": [
    "llm = Anthropic(model=\"claude-3-opus-20240229\", api_key=ANTHROPIC_API_KEY)"
   ]
  },
  {
   "cell_type": "markdown",
   "id": "cfdf17e3-93be-4aad-b766-84f4a5512308",
   "metadata": {},
   "source": [
    "## Read the content in the file"
   ]
  },
  {
   "cell_type": "code",
   "execution_count": 27,
   "id": "13dde9f5-3576-4b30-bce1-78476c415c35",
   "metadata": {},
   "outputs": [],
   "source": [
    "def read_pdf(bucket_name, file_name):\n",
    "        \"\"\"\n",
    "        Reads a PDF file from a Google Cloud Storage bucket.\n",
    "        Args:\n",
    "            bucket_name (str): The name of the Google Cloud Storage bucket.\n",
    "            file_name (str): The name of the PDF file.\n",
    "\n",
    "        Returns:\n",
    "            bytes: The content of the PDF file as bytes.\n",
    "        \"\"\"\n",
    "        # bucket_name = \"your-bucket-name\"\n",
    "\n",
    "        storage_client = storage.Client()\n",
    "\n",
    "        # Note: Client.list_blobs requires at least package version 1.17.0.\n",
    "        bucket = storage_client.bucket(bucket_name)\n",
    "\n",
    "        blob = bucket.blob(file_name)\n",
    "\n",
    "        pdf_data = blob.download_as_bytes()\n",
    "\n",
    "        # pdf_buffer = io.BytesIO(pdf_data)\n",
    "        # # Read the PDF\n",
    "        # pdf_reader = PdfReader(pdf_buffer)\n",
    "\n",
    "        return pdf_data"
   ]
  },
  {
   "cell_type": "markdown",
   "id": "db6b79d5-f3fb-4ff1-bb56-b7ab37c1402b",
   "metadata": {},
   "source": [
    "## Save the Generated Json file to Google Storage"
   ]
  },
  {
   "cell_type": "code",
   "execution_count": 28,
   "id": "238fe42e-e406-4249-bbb0-2b5c1d90bc11",
   "metadata": {},
   "outputs": [],
   "source": [
    "def upload_json(bucket_name, json_data, output_filename):\n",
    "    \"\"\"\n",
    "    Uploads a JSON file to a Google Cloud Storage bucket.\n",
    "\n",
    "    Args:\n",
    "        bucket_name (str): The name of the Google Cloud Storage bucket.\n",
    "        json_data (dict): The JSON data to be uploaded.\n",
    "        output_filename (str): The name of the output file.\n",
    "\n",
    "    Returns:\n",
    "        None\n",
    "    \"\"\"\n",
    "    storage_client = storage.Client()\n",
    "    bucket = storage_client.bucket(bucket_name)\n",
    "    blob = bucket.blob(f'output/{output_filename}')\n",
    "    blob.upload_from_string(data=json.dumps(json_data), content_type='application/json')"
   ]
  },
  {
   "cell_type": "code",
   "execution_count": 29,
   "id": "4efd3077-b8e3-4166-b40f-cfd394e6c4bb",
   "metadata": {},
   "outputs": [],
   "source": [
    "## Document AI\n",
    "### 1. Create a OCR Processor\n",
    "### 2. Get Document Processor ID"
   ]
  },
  {
   "cell_type": "code",
   "execution_count": 30,
   "id": "fb098029-e292-4c48-8075-76d8ff584528",
   "metadata": {},
   "outputs": [],
   "source": [
    "def create_vector():\n",
    "    \"\"\"\n",
    "    Creates a vector representation of a PDF document using Document AI.\n",
    "\n",
    "    Returns:\n",
    "        dict: A dictionary with a message indicating the status of the vector creation.\n",
    "    \"\"\"\n",
    "    try:\n",
    "        opts = ClientOptions(api_endpoint=f\"{DOCUMENTAI_LOCATION}-documentai.googleapis.com\")\n",
    "        client = documentai.DocumentProcessorServiceClient(client_options=opts)\n",
    "        name = client.processor_path(project=DOCUMENTAI_PROJECT_ID, location=DOCUMENTAI_LOCATION, processor=DOCUMENTAI_PROCESSOR_ID)\n",
    "\n",
    "        # Download PDF content from storage\n",
    "        pdf_content = read_pdf('the_ai_connect', 'medical_anatomy.pdf')\n",
    "\n",
    "        raw_document = documentai.RawDocument(\n",
    "            content=pdf_content,\n",
    "            mime_type=\"application/pdf\",\n",
    "        )\n",
    "\n",
    "        request = documentai.ProcessRequest(\n",
    "            name=name, raw_document=raw_document)\n",
    "        result = client.process_document(request=request)\n",
    "        document = result.document\n",
    "        json_document = Document.to_json(document)\n",
    "\n",
    "        obj = {\n",
    "            \"mimeType\": document.mime_type,\n",
    "            \"text\": document.text,\n",
    "            \"uri\": document.uri,\n",
    "        }\n",
    "\n",
    "        upload_json('the_ai_connect', json_document, 'medical_anatomy.json')\n",
    "        \n",
    "        # Save JSON document to a file\n",
    "        with open(os.path.abspath(os.getcwd()) + \"/uploads/medical_anatomy.json\", \"w\") as json_file:\n",
    "            json.dump(obj, json_file, ensure_ascii=False, indent=4)\n",
    "\n",
    "        # Load data from the JSON file\n",
    "        documents = SimpleDirectoryReader(\n",
    "            input_files=[os.path.abspath(os.getcwd()) + \"/uploads/medical_anatomy.json\"]\n",
    "        ).load_data()\n",
    "\n",
    "        # Create a vector store and index the documents\n",
    "        storage_context = StorageContext.from_defaults(\n",
    "            vector_store=PGVectorStore.from_params(\n",
    "                host=POSTGRES_HOST,\n",
    "                port=POSTGRES_PORT,\n",
    "                database=POSTGRES_DB,\n",
    "                user=POSTGRES_USER,\n",
    "                password=POSTGRES_PASSWORD,\n",
    "            )\n",
    "        )\n",
    "\n",
    "        VectorStoreIndex(\n",
    "            JSONNodeParser().get_nodes_from_documents(documents),\n",
    "            storage_context=storage_context,\n",
    "            embed_model=embed_model,\n",
    "        )\n",
    "\n",
    "        return {\"message\": \"Vector created\"}\n",
    "    except Exception as e:\n",
    "        print('Error:', e)\n",
    "        return {\"message\": \"Something went wrong\"}"
   ]
  },
  {
   "cell_type": "code",
   "execution_count": 31,
   "id": "6b9eb52e-c663-4a17-9ac3-ae8f4b9e27fc",
   "metadata": {},
   "outputs": [],
   "source": [
    "# def extract_json_from_string(input_string: str):\n",
    "#     # Find all occurrences of the pattern\n",
    "#     pattern = r\"\\$\\$(.*?)\\*\\*(.*?)\\*\\*\\$\\$\"\n",
    "#     matches = re.findall(pattern, input_string)\n",
    "#     content = input_string\n",
    "\n",
    "#     # Process each match and store it in the JSON structure\n",
    "#     references = {\n",
    "#         f\"reference_{i}\": {\n",
    "#             \"label\": match[0].split(\"##\")[1],\n",
    "#             \"pageNumber\": int(match[1].split(\":\")[1].strip().split(\"-\")[0]),\n",
    "#         }\n",
    "#         for i, match in enumerate(matches, start=1)\n",
    "#     }\n",
    "\n",
    "#     # Replace the pattern in the content string\n",
    "#     for i, match in enumerate(matches, start=1):\n",
    "#         reference_string = f\"##references.reference_{i}.label##\"\n",
    "#         content = content.replace(match[0], reference_string, 1)\n",
    "\n",
    "#     # Form the final JSON structure\n",
    "#     return references, content\n"
   ]
  },
  {
   "cell_type": "code",
   "execution_count": 50,
   "id": "e7e3bebf-f0c2-4da8-ac80-4c07915d7c46",
   "metadata": {},
   "outputs": [],
   "source": [
    "system_prompt_1 = \"\"\"\n",
    "            Provide the appropriate response for the user prompt.\n",
    "            \"\"\""
   ]
  },
  {
   "cell_type": "code",
   "execution_count": null,
   "id": "cc135fd9-3956-4f25-8682-3bb05718ff1f",
   "metadata": {},
   "outputs": [],
   "source": [
    "\n",
    "system_prompt_2 = \"\"\"\n",
    "            Assist the user to give the detailed response from the document with the references.\n",
    "            \"\"\"\n",
    "\n"
   ]
  },
  {
   "cell_type": "code",
   "execution_count": 51,
   "id": "a41dd7fe-5e28-4072-bdf7-28134b293e32",
   "metadata": {},
   "outputs": [],
   "source": [
    "\n",
    "system_prompt_3 = \"\"\"\n",
    "            You are a helpful document assistant. In your response, please use references with page numbers or\n",
    "            headings or figures to the Medical Anatomy PDF and return in below format.\n",
    "            Sample Response:\n",
    "                1. This is the content 1 (**Section: 1.1.1 (Page: 1)**)\n",
    "                2. This is the content 2 (**Table:1.2.1 (Page: 1)**)\n",
    "                3. This is the content 3 (**Figure: 1.3.1 (Page: 1)**)\n",
    "            \"\"\"\n"
   ]
  },
  {
   "cell_type": "code",
   "execution_count": 57,
   "id": "2c98fee3-8e4e-4dd3-9cf9-f43d15b9462d",
   "metadata": {},
   "outputs": [],
   "source": [
    "def doc_chat(prompt: PromptModel, system_prompt):\n",
    "    try:\n",
    "        \n",
    "\n",
    "        vector_store = PGVectorStore.from_params(\n",
    "            host=POSTGRES_HOST,\n",
    "            port=POSTGRES_PORT,\n",
    "            database=POSTGRES_DB,\n",
    "            user=POSTGRES_USER,\n",
    "            password=POSTGRES_PASSWORD,\n",
    "        )\n",
    "\n",
    "        index = VectorStoreIndex.from_vector_store(\n",
    "            vector_store=vector_store, embed_model=embed_model\n",
    "        )\n",
    "\n",
    "        chat_engine = index.as_chat_engine(\n",
    "            chat_mode=\"context\",\n",
    "            llm=llm,\n",
    "            # memory=memory,  ## Memory is used to persist the conversation history.\n",
    "            system_prompt=system_prompt,\n",
    "        )\n",
    "\n",
    "        response = chat_engine.chat(prompt[\"prompt\"])\n",
    "        # references, content = extract_json_from_string(response.response)\n",
    "        return response.response\n",
    "    except Exception as e:\n",
    "        print('Error: ', e)\n",
    "        return {\"message\": \"Something went wrong\"}\n"
   ]
  },
  {
   "cell_type": "code",
   "execution_count": 53,
   "id": "dfc08f42-9bcf-4fdc-8133-60eddf4a6cc5",
   "metadata": {},
   "outputs": [
    {
     "data": {
      "text/plain": [
       "{'message': 'Vector created'}"
      ]
     },
     "execution_count": 53,
     "metadata": {},
     "output_type": "execute_result"
    }
   ],
   "source": [
    "create_vector()"
   ]
  },
  {
   "cell_type": "code",
   "execution_count": null,
   "id": "2973b199-5dd9-46d3-ba32-438720e7e088",
   "metadata": {
    "scrolled": true
   },
   "outputs": [],
   "source": []
  },
  {
   "cell_type": "code",
   "execution_count": 54,
   "id": "29fd0657-deb9-4660-a8a1-0ae75288bb78",
   "metadata": {},
   "outputs": [
    {
     "name": "stdout",
     "output_type": "stream",
     "text": [
      "Result: Joint receptors are sensory receptors located in the joints that provide information about joint position, movement, and forces acting on the joint. There are four main types of joint receptors:\n",
      "\n",
      "1. Type 1 (Ruffini endings): These are slowly adapting receptors that signal joint position and the direction, speed, and amplitude of joint movements. They are located in the joint capsule, ligaments, and menisci.\n",
      "\n",
      "2. Type 2 (Pacinian corpuscles): These are rapidly adapting receptors that detect acceleration and deceleration of joint movements. They are located in the joint capsule, ligaments, and fat pads.\n",
      "\n",
      "3. Type 3 (Golgi tendon organ-like endings): These receptors are located in the ligaments and respond to tension forces acting on the joint.\n",
      "\n",
      "4. Type 4 (Free nerve endings): These are nociceptors that respond to potentially harmful mechanical and chemical stimuli. They signal pain associated with joint damage or inflammation.\n",
      "\n",
      "Joint receptors work together with muscle spindles and other proprioceptors to provide information about the body's position and movement in space. This information is essential for maintaining balance, coordinating movements, and regulating muscle tone and reflexes.\n"
     ]
    }
   ],
   "source": [
    "# Assuming you have a prompt object\n",
    "prompt = {\"prompt\": \"What is joint receptors\"}\n",
    "result = doc_chat(prompt, system_prompt_1)\n",
    "print(\"Result:\", result)"
   ]
  },
  {
   "cell_type": "code",
   "execution_count": 55,
   "id": "bf6294fe-5035-4fb8-a45c-5af2985356a0",
   "metadata": {},
   "outputs": [
    {
     "name": "stdout",
     "output_type": "stream",
     "text": [
      "Result: According to the passage, joint receptors are low-threshold mechanoreceptors that signal different characteristics of joint function. Specifically:\n",
      "\n",
      "\"The joint receptors are low-threshold mechanoreceptors and have been divided into four groups. They signal different characteristics of joint function (position, movements, direction and speed of movements).\" \n",
      "\n",
      "The passage also mentions that \"The free receptors or type 4 joint receptors are nociceptors.\"\n",
      "\n",
      "In summary, joint receptors are sensory receptors located in joints that detect and signal information about joint position, movement, direction, and speed. They are mostly low-threshold mechanoreceptors, with one type (type 4) being nociceptors that detect pain.\n"
     ]
    }
   ],
   "source": [
    "# Assuming you have a prompt object\n",
    "prompt = {\"prompt\": \"What is joint receptors\"}\n",
    "result = doc_chat(prompt, system_prompt_2)\n",
    "print(\"Result:\", result)"
   ]
  },
  {
   "cell_type": "code",
   "execution_count": 56,
   "id": "7ac6090e-a666-4fa7-8f36-4cb057dc201c",
   "metadata": {},
   "outputs": [
    {
     "name": "stdout",
     "output_type": "stream",
     "text": [
      "Result: Joint receptors are sensory receptors located in the joints that provide information about joint position, movement, and direction. They are important for proprioception, which is the sense of the position and movement of our limbs and body.\n",
      "\n",
      "According to the information provided (**Section: Joint receptors (Page: 4)**):\n",
      "\n",
      "\"The joint receptors are low-threshold mechanoreceptors and have been divided into four groups. They signal different characteristics of joint function (position, movements, direction and speed of movements). The free receptors or type 4 joint receptors are nociceptors.\"\n",
      "\n",
      "So in summary, joint receptors are sensory receptors in the joints that detect position, movement, direction and speed of the joints. They are classified into four types, with type 4 being nociceptors that detect pain.\n"
     ]
    }
   ],
   "source": [
    "# Assuming you have a prompt object\n",
    "prompt = {\"prompt\": \"What is joint receptors\"}\n",
    "result = doc_chat(prompt, system_prompt_3)\n",
    "print(\"Result:\", result)"
   ]
  },
  {
   "cell_type": "code",
   "execution_count": null,
   "id": "23f866ea-aaab-41bc-a72d-e6de409d9f73",
   "metadata": {},
   "outputs": [],
   "source": []
  },
  {
   "cell_type": "code",
   "execution_count": null,
   "id": "b060cad8-ca26-4a36-b271-6e167dcd2ccd",
   "metadata": {},
   "outputs": [],
   "source": []
  }
 ],
 "metadata": {
  "kernelspec": {
   "display_name": "Python 3 (ipykernel)",
   "language": "python",
   "name": "python3"
  },
  "language_info": {
   "codemirror_mode": {
    "name": "ipython",
    "version": 3
   },
   "file_extension": ".py",
   "mimetype": "text/x-python",
   "name": "python",
   "nbconvert_exporter": "python",
   "pygments_lexer": "ipython3",
   "version": "3.8.19"
  }
 },
 "nbformat": 4,
 "nbformat_minor": 5
}
